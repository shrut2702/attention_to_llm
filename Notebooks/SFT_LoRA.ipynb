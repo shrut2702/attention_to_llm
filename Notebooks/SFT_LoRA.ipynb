{
  "nbformat": 4,
  "nbformat_minor": 0,
  "metadata": {
    "colab": {
      "provenance": [],
      "gpuType": "T4"
    },
    "kernelspec": {
      "name": "python3",
      "display_name": "Python 3"
    },
    "language_info": {
      "name": "python"
    },
    "accelerator": "GPU"
  },
  "cells": [
    {
      "cell_type": "code",
      "execution_count": 1,
      "metadata": {
        "id": "by9abSsN50rC"
      },
      "outputs": [],
      "source": [
        "import torch\n",
        "import torch.nn as nn\n",
        "from torch.utils.data import DataLoader, Dataset\n",
        "import tiktoken as tk"
      ]
    },
    {
      "cell_type": "code",
      "source": [
        "import sys\n",
        "sys.path.append('/content/drive/My Drive/LLM/Notebooks')"
      ],
      "metadata": {
        "id": "Z22qPMLX59Ug"
      },
      "execution_count": 2,
      "outputs": []
    },
    {
      "cell_type": "code",
      "source": [
        "import urllib.request\n",
        "from pathlib import Path\n",
        "import json\n",
        "import time\n",
        "import os\n",
        "from tqdm import tqdm\n",
        "from functools import partial\n",
        "import math"
      ],
      "metadata": {
        "id": "BPXgP5Nt59Xk"
      },
      "execution_count": 25,
      "outputs": []
    },
    {
      "cell_type": "code",
      "source": [
        "from gpt_download import download_and_load_gpt2\n",
        "from gpt2 import *\n",
        "from utils import *"
      ],
      "metadata": {
        "id": "lo2vGYTM59a8"
      },
      "execution_count": 4,
      "outputs": []
    },
    {
      "cell_type": "markdown",
      "source": [
        "# **Data Preparation**"
      ],
      "metadata": {
        "id": "sYmDQ99n6Egw"
      }
    },
    {
      "cell_type": "code",
      "source": [
        "def download_and_load_file(file_path, url):\n",
        "  if not os.path.exists(file_path):\n",
        "    with urllib.request.urlopen(url) as response:\n",
        "      text_data = response.read().decode(\"utf-8\")\n",
        "    with open(file_path, 'w', encoding='utf-8') as f:\n",
        "      f.write(text_data)\n",
        "  else:\n",
        "    with open(file_path, 'r', encoding='utf-8') as f:\n",
        "      text_data = f.read()\n",
        "  with open(file_path, 'r') as f:\n",
        "    data = json.load(f)\n",
        "  return data"
      ],
      "metadata": {
        "id": "34lC_pOs59eF"
      },
      "execution_count": 5,
      "outputs": []
    },
    {
      "cell_type": "code",
      "source": [
        "file_path = '/content/drive/My Drive/LLM/Data/instruction-data.json'\n",
        "url = 'https://raw.githubusercontent.com/rasbt/LLMs-from-scratch/main/ch07/01_main-chapter-code/instruction-data.json'\n",
        "\n",
        "data = download_and_load_file(file_path, url)\n",
        "print(\"Total entries: \", len(data))"
      ],
      "metadata": {
        "colab": {
          "base_uri": "https://localhost:8080/"
        },
        "id": "YFt2b2HM59ht",
        "outputId": "1ed41e6a-d01d-4d3e-b78d-0f00124ddf92"
      },
      "execution_count": 6,
      "outputs": [
        {
          "output_type": "stream",
          "name": "stdout",
          "text": [
            "Total entries:  1100\n"
          ]
        }
      ]
    },
    {
      "cell_type": "code",
      "source": [
        "def split_data(data, train_size, test_size):\n",
        "  train_data = data[:int(len(data) * train_size)]\n",
        "  test_data = data[int(len(data) * train_size) : int(len(data) * (train_size + test_size))]\n",
        "  val_data = data[int(len(data) * (train_size + test_size)):]\n",
        "\n",
        "  return train_data, val_data, test_data"
      ],
      "metadata": {
        "id": "hnCM8peF59kv"
      },
      "execution_count": 7,
      "outputs": []
    },
    {
      "cell_type": "code",
      "source": [
        "train_data, val_data, test_data = split_data(data, 0.85, 0.1)"
      ],
      "metadata": {
        "id": "yJptg70C59n-"
      },
      "execution_count": 8,
      "outputs": []
    },
    {
      "cell_type": "code",
      "source": [
        "def format_entry(entry):\n",
        "  instruction_text = (\n",
        "      f\"Below is the instruction that describes a task. Write an appropriate response to address the instruction. \"\n",
        "      f\"\\n\\n### Instruction:\\n{entry['instruction']}\"\n",
        "  )\n",
        "\n",
        "  input_text = f\"\\n\\n### Input:\\n{entry['input']}\" if entry['input'] else \"\"\n",
        "\n",
        "  return instruction_text + input_text"
      ],
      "metadata": {
        "id": "NOKSaLIw6MGs"
      },
      "execution_count": 9,
      "outputs": []
    },
    {
      "cell_type": "code",
      "source": [
        "class InstructionDataset(Dataset):\n",
        "  def __init__(self, data, tokenizer):\n",
        "    self.data = data\n",
        "    self.entry_lst = []\n",
        "\n",
        "    for entry in self.data:\n",
        "      instruction_text = format_entry(entry)\n",
        "      response_text = f\"\\n\\n### Response:\\n{entry['output']}\"\n",
        "      text = instruction_text + response_text\n",
        "\n",
        "      encoded_text = tokenizer.encode(text)\n",
        "      self.entry_lst.append(encoded_text)\n",
        "\n",
        "  def __getitem__(self, idx):\n",
        "    return self.entry_lst[idx]\n",
        "\n",
        "  def __len__(self):\n",
        "    return len(self.entry_lst)"
      ],
      "metadata": {
        "id": "rUL9J78i6MJv"
      },
      "execution_count": 10,
      "outputs": []
    },
    {
      "cell_type": "code",
      "source": [
        "tokenizer = tk.get_encoding('gpt2')"
      ],
      "metadata": {
        "id": "2Gl4E0FC6MMk"
      },
      "execution_count": 11,
      "outputs": []
    },
    {
      "cell_type": "code",
      "source": [
        "def custom_collate_fn(batch, pad_token_id = 50256, ignore_index=-100, allowed_max_length=1024, device='cpu'):\n",
        "  batch_max_length = max([len(item)+1 for item in batch])\n",
        "  inputs_lst, targets_lst = [], []\n",
        "\n",
        "  for item in batch:\n",
        "    new_item = item.copy()\n",
        "    new_item += [pad_token_id]\n",
        "\n",
        "    padded_item = new_item + [pad_token_id] * (batch_max_length - len(new_item))\n",
        "\n",
        "    input = padded_item[:-1]\n",
        "    target = padded_item[1:]\n",
        "\n",
        "    input = torch.tensor(input)\n",
        "    target = torch.tensor(target)\n",
        "\n",
        "    mask = target == pad_token_id\n",
        "    indices = torch.nonzero(mask).squeeze()\n",
        "    if indices.numel() > 1:\n",
        "      target[indices[1:]] = ignore_index\n",
        "\n",
        "    if allowed_max_length is not None:\n",
        "      input = input[:allowed_max_length]\n",
        "      target = target[:allowed_max_length]\n",
        "\n",
        "    inputs_lst.append(input)\n",
        "    targets_lst.append(target)\n",
        "\n",
        "  return torch.stack(inputs_lst).to(device), torch.stack(targets_lst).to(device)\n"
      ],
      "metadata": {
        "id": "wmLcpU7J6xyX"
      },
      "execution_count": 12,
      "outputs": []
    },
    {
      "cell_type": "code",
      "source": [
        "device = \"cuda\" if torch.cuda.is_available() else \"cpu\""
      ],
      "metadata": {
        "id": "HxSuFyHL7IYY"
      },
      "execution_count": 13,
      "outputs": []
    },
    {
      "cell_type": "code",
      "source": [
        "customized_collate_fn = partial(custom_collate_fn, pad_token_id = 50256, ignore_index=-100, allowed_max_length=1024, device=device)"
      ],
      "metadata": {
        "id": "neVqjJK27Jx_"
      },
      "execution_count": 14,
      "outputs": []
    },
    {
      "cell_type": "code",
      "source": [
        "num_workers = 0\n",
        "batch_size = 8\n",
        "\n",
        "torch.manual_seed(123)\n",
        "\n",
        "train_dataset = InstructionDataset(train_data, tokenizer)\n",
        "train_loader = DataLoader(train_dataset, batch_size=batch_size, shuffle=True, drop_last=True, collate_fn=customized_collate_fn, num_workers=num_workers)\n",
        "\n",
        "val_dataset = InstructionDataset(val_data, tokenizer)\n",
        "val_loader = DataLoader(val_dataset, batch_size=batch_size, shuffle=False, drop_last=False, collate_fn=customized_collate_fn, num_workers=num_workers)\n",
        "\n",
        "test_dataset = InstructionDataset(test_data, tokenizer)\n",
        "test_loader = DataLoader(test_dataset, batch_size=batch_size, shuffle=False, drop_last=False, collate_fn=customized_collate_fn, num_workers=num_workers)"
      ],
      "metadata": {
        "id": "55szzUaw7J1E"
      },
      "execution_count": 35,
      "outputs": []
    },
    {
      "cell_type": "code",
      "source": [
        "for x,y in train_loader:\n",
        "  print(x.shape, y.shape)"
      ],
      "metadata": {
        "colab": {
          "base_uri": "https://localhost:8080/"
        },
        "collapsed": true,
        "id": "zpDcy6KpJ789",
        "outputId": "70ac19b0-83a2-49c8-b5c4-7225fcfde9e4"
      },
      "execution_count": 37,
      "outputs": [
        {
          "output_type": "stream",
          "name": "stdout",
          "text": [
            "torch.Size([8, 62]) torch.Size([8, 62])\n",
            "torch.Size([8, 58]) torch.Size([8, 58])\n",
            "torch.Size([8, 62]) torch.Size([8, 62])\n",
            "torch.Size([8, 69]) torch.Size([8, 69])\n",
            "torch.Size([8, 66]) torch.Size([8, 66])\n",
            "torch.Size([8, 64]) torch.Size([8, 64])\n",
            "torch.Size([8, 69]) torch.Size([8, 69])\n",
            "torch.Size([8, 70]) torch.Size([8, 70])\n",
            "torch.Size([8, 81]) torch.Size([8, 81])\n",
            "torch.Size([8, 64]) torch.Size([8, 64])\n",
            "torch.Size([8, 76]) torch.Size([8, 76])\n",
            "torch.Size([8, 74]) torch.Size([8, 74])\n",
            "torch.Size([8, 69]) torch.Size([8, 69])\n",
            "torch.Size([8, 68]) torch.Size([8, 68])\n",
            "torch.Size([8, 72]) torch.Size([8, 72])\n",
            "torch.Size([8, 60]) torch.Size([8, 60])\n",
            "torch.Size([8, 89]) torch.Size([8, 89])\n",
            "torch.Size([8, 58]) torch.Size([8, 58])\n",
            "torch.Size([8, 72]) torch.Size([8, 72])\n",
            "torch.Size([8, 62]) torch.Size([8, 62])\n",
            "torch.Size([8, 67]) torch.Size([8, 67])\n",
            "torch.Size([8, 66]) torch.Size([8, 66])\n",
            "torch.Size([8, 73]) torch.Size([8, 73])\n",
            "torch.Size([8, 59]) torch.Size([8, 59])\n",
            "torch.Size([8, 62]) torch.Size([8, 62])\n",
            "torch.Size([8, 76]) torch.Size([8, 76])\n",
            "torch.Size([8, 76]) torch.Size([8, 76])\n",
            "torch.Size([8, 63]) torch.Size([8, 63])\n",
            "torch.Size([8, 65]) torch.Size([8, 65])\n",
            "torch.Size([8, 69]) torch.Size([8, 69])\n",
            "torch.Size([8, 92]) torch.Size([8, 92])\n",
            "torch.Size([8, 66]) torch.Size([8, 66])\n",
            "torch.Size([8, 65]) torch.Size([8, 65])\n",
            "torch.Size([8, 71]) torch.Size([8, 71])\n",
            "torch.Size([8, 66]) torch.Size([8, 66])\n",
            "torch.Size([8, 70]) torch.Size([8, 70])\n",
            "torch.Size([8, 83]) torch.Size([8, 83])\n",
            "torch.Size([8, 81]) torch.Size([8, 81])\n",
            "torch.Size([8, 67]) torch.Size([8, 67])\n",
            "torch.Size([8, 82]) torch.Size([8, 82])\n",
            "torch.Size([8, 63]) torch.Size([8, 63])\n",
            "torch.Size([8, 63]) torch.Size([8, 63])\n",
            "torch.Size([8, 75]) torch.Size([8, 75])\n",
            "torch.Size([8, 75]) torch.Size([8, 75])\n",
            "torch.Size([8, 66]) torch.Size([8, 66])\n",
            "torch.Size([8, 68]) torch.Size([8, 68])\n",
            "torch.Size([8, 70]) torch.Size([8, 70])\n",
            "torch.Size([8, 72]) torch.Size([8, 72])\n",
            "torch.Size([8, 63]) torch.Size([8, 63])\n",
            "torch.Size([8, 78]) torch.Size([8, 78])\n",
            "torch.Size([8, 62]) torch.Size([8, 62])\n",
            "torch.Size([8, 61]) torch.Size([8, 61])\n",
            "torch.Size([8, 61]) torch.Size([8, 61])\n",
            "torch.Size([8, 71]) torch.Size([8, 71])\n",
            "torch.Size([8, 84]) torch.Size([8, 84])\n",
            "torch.Size([8, 80]) torch.Size([8, 80])\n",
            "torch.Size([8, 79]) torch.Size([8, 79])\n",
            "torch.Size([8, 69]) torch.Size([8, 69])\n",
            "torch.Size([8, 62]) torch.Size([8, 62])\n",
            "torch.Size([8, 62]) torch.Size([8, 62])\n",
            "torch.Size([8, 72]) torch.Size([8, 72])\n",
            "torch.Size([8, 84]) torch.Size([8, 84])\n",
            "torch.Size([8, 67]) torch.Size([8, 67])\n",
            "torch.Size([8, 65]) torch.Size([8, 65])\n",
            "torch.Size([8, 65]) torch.Size([8, 65])\n",
            "torch.Size([8, 76]) torch.Size([8, 76])\n",
            "torch.Size([8, 64]) torch.Size([8, 64])\n",
            "torch.Size([8, 65]) torch.Size([8, 65])\n",
            "torch.Size([8, 75]) torch.Size([8, 75])\n",
            "torch.Size([8, 67]) torch.Size([8, 67])\n",
            "torch.Size([8, 74]) torch.Size([8, 74])\n",
            "torch.Size([8, 64]) torch.Size([8, 64])\n",
            "torch.Size([8, 64]) torch.Size([8, 64])\n",
            "torch.Size([8, 72]) torch.Size([8, 72])\n",
            "torch.Size([8, 70]) torch.Size([8, 70])\n",
            "torch.Size([8, 77]) torch.Size([8, 77])\n",
            "torch.Size([8, 64]) torch.Size([8, 64])\n",
            "torch.Size([8, 63]) torch.Size([8, 63])\n",
            "torch.Size([8, 73]) torch.Size([8, 73])\n",
            "torch.Size([8, 65]) torch.Size([8, 65])\n",
            "torch.Size([8, 88]) torch.Size([8, 88])\n",
            "torch.Size([8, 74]) torch.Size([8, 74])\n",
            "torch.Size([8, 70]) torch.Size([8, 70])\n",
            "torch.Size([8, 73]) torch.Size([8, 73])\n",
            "torch.Size([8, 84]) torch.Size([8, 84])\n",
            "torch.Size([8, 65]) torch.Size([8, 65])\n",
            "torch.Size([8, 67]) torch.Size([8, 67])\n",
            "torch.Size([8, 84]) torch.Size([8, 84])\n",
            "torch.Size([8, 90]) torch.Size([8, 90])\n",
            "torch.Size([8, 64]) torch.Size([8, 64])\n",
            "torch.Size([8, 62]) torch.Size([8, 62])\n",
            "torch.Size([8, 67]) torch.Size([8, 67])\n",
            "torch.Size([8, 72]) torch.Size([8, 72])\n",
            "torch.Size([8, 75]) torch.Size([8, 75])\n",
            "torch.Size([8, 63]) torch.Size([8, 63])\n",
            "torch.Size([8, 70]) torch.Size([8, 70])\n",
            "torch.Size([8, 77]) torch.Size([8, 77])\n",
            "torch.Size([8, 66]) torch.Size([8, 66])\n",
            "torch.Size([8, 68]) torch.Size([8, 68])\n",
            "torch.Size([8, 84]) torch.Size([8, 84])\n",
            "torch.Size([8, 78]) torch.Size([8, 78])\n",
            "torch.Size([8, 68]) torch.Size([8, 68])\n",
            "torch.Size([8, 61]) torch.Size([8, 61])\n",
            "torch.Size([8, 65]) torch.Size([8, 65])\n",
            "torch.Size([8, 67]) torch.Size([8, 67])\n",
            "torch.Size([8, 81]) torch.Size([8, 81])\n",
            "torch.Size([8, 69]) torch.Size([8, 69])\n",
            "torch.Size([8, 92]) torch.Size([8, 92])\n",
            "torch.Size([8, 76]) torch.Size([8, 76])\n",
            "torch.Size([8, 61]) torch.Size([8, 61])\n",
            "torch.Size([8, 67]) torch.Size([8, 67])\n",
            "torch.Size([8, 92]) torch.Size([8, 92])\n",
            "torch.Size([8, 81]) torch.Size([8, 81])\n",
            "torch.Size([8, 67]) torch.Size([8, 67])\n",
            "torch.Size([8, 70]) torch.Size([8, 70])\n",
            "torch.Size([8, 75]) torch.Size([8, 75])\n"
          ]
        }
      ]
    },
    {
      "cell_type": "markdown",
      "source": [
        "# **Load Pretrained weights**"
      ],
      "metadata": {
        "id": "5EG42vMg7PkC"
      }
    },
    {
      "cell_type": "code",
      "source": [
        "model_name = 'gpt2-medium (355M)'\n",
        "model_size = model_name.split(' ')[-1].lstrip('(').rstrip(')')\n",
        "BASE_CONFIG.update(model_configs[model_name])"
      ],
      "metadata": {
        "id": "Gq1Kb-9B7PHx"
      },
      "execution_count": 17,
      "outputs": []
    },
    {
      "cell_type": "code",
      "source": [
        "settings, params = download_and_load_gpt2(model_size, models_dir='gpt')"
      ],
      "metadata": {
        "colab": {
          "base_uri": "https://localhost:8080/"
        },
        "id": "UNyEmH2K7J4X",
        "outputId": "2400859f-16c9-4190-98a0-3e134ccb33e6"
      },
      "execution_count": 18,
      "outputs": [
        {
          "output_type": "stream",
          "name": "stderr",
          "text": [
            "checkpoint: 100%|██████████| 77.0/77.0 [00:00<00:00, 172kiB/s]\n",
            "encoder.json: 100%|██████████| 1.04M/1.04M [00:00<00:00, 3.07MiB/s]\n",
            "hparams.json: 100%|██████████| 91.0/91.0 [00:00<00:00, 169kiB/s]\n",
            "model.ckpt.data-00000-of-00001: 100%|██████████| 1.42G/1.42G [01:36<00:00, 14.6MiB/s]\n",
            "model.ckpt.index: 100%|██████████| 10.4k/10.4k [00:00<00:00, 13.2MiB/s]\n",
            "model.ckpt.meta: 100%|██████████| 927k/927k [00:00<00:00, 2.64MiB/s]\n",
            "vocab.bpe: 100%|██████████| 456k/456k [00:00<00:00, 1.51MiB/s]\n"
          ]
        }
      ]
    },
    {
      "cell_type": "code",
      "source": [
        "model = GPTModel(BASE_CONFIG)\n",
        "load_parameters(model, params)\n",
        "model.eval()"
      ],
      "metadata": {
        "colab": {
          "base_uri": "https://localhost:8080/"
        },
        "collapsed": true,
        "id": "JJT7y3fe7J7F",
        "outputId": "68ca2553-8c79-466c-90ea-0f22dd121720"
      },
      "execution_count": 38,
      "outputs": [
        {
          "output_type": "execute_result",
          "data": {
            "text/plain": [
              "GPTModel(\n",
              "  (token_emb_layer): Embedding(50257, 1024)\n",
              "  (pos_emb_layer): Embedding(1024, 1024)\n",
              "  (dropout_layer): Dropout(p=0.0, inplace=False)\n",
              "  (trf_blocks): Sequential(\n",
              "    (0): TransformerBlock(\n",
              "      (mha): MultiHeadAttention(\n",
              "        (w_query): Linear(in_features=1024, out_features=1024, bias=True)\n",
              "        (w_key): Linear(in_features=1024, out_features=1024, bias=True)\n",
              "        (w_value): Linear(in_features=1024, out_features=1024, bias=True)\n",
              "        (out_proj): Linear(in_features=1024, out_features=1024, bias=True)\n",
              "        (dropout): Dropout(p=0.0, inplace=False)\n",
              "      )\n",
              "      (layer_norm1): LayerNorm()\n",
              "      (layer_norm2): LayerNorm()\n",
              "      (ffn): FeedForward(\n",
              "        (layers): Sequential(\n",
              "          (0): Linear(in_features=1024, out_features=4096, bias=True)\n",
              "          (1): GeLU()\n",
              "          (2): Linear(in_features=4096, out_features=1024, bias=True)\n",
              "        )\n",
              "      )\n",
              "      (dropout): Dropout(p=0.0, inplace=False)\n",
              "    )\n",
              "    (1): TransformerBlock(\n",
              "      (mha): MultiHeadAttention(\n",
              "        (w_query): Linear(in_features=1024, out_features=1024, bias=True)\n",
              "        (w_key): Linear(in_features=1024, out_features=1024, bias=True)\n",
              "        (w_value): Linear(in_features=1024, out_features=1024, bias=True)\n",
              "        (out_proj): Linear(in_features=1024, out_features=1024, bias=True)\n",
              "        (dropout): Dropout(p=0.0, inplace=False)\n",
              "      )\n",
              "      (layer_norm1): LayerNorm()\n",
              "      (layer_norm2): LayerNorm()\n",
              "      (ffn): FeedForward(\n",
              "        (layers): Sequential(\n",
              "          (0): Linear(in_features=1024, out_features=4096, bias=True)\n",
              "          (1): GeLU()\n",
              "          (2): Linear(in_features=4096, out_features=1024, bias=True)\n",
              "        )\n",
              "      )\n",
              "      (dropout): Dropout(p=0.0, inplace=False)\n",
              "    )\n",
              "    (2): TransformerBlock(\n",
              "      (mha): MultiHeadAttention(\n",
              "        (w_query): Linear(in_features=1024, out_features=1024, bias=True)\n",
              "        (w_key): Linear(in_features=1024, out_features=1024, bias=True)\n",
              "        (w_value): Linear(in_features=1024, out_features=1024, bias=True)\n",
              "        (out_proj): Linear(in_features=1024, out_features=1024, bias=True)\n",
              "        (dropout): Dropout(p=0.0, inplace=False)\n",
              "      )\n",
              "      (layer_norm1): LayerNorm()\n",
              "      (layer_norm2): LayerNorm()\n",
              "      (ffn): FeedForward(\n",
              "        (layers): Sequential(\n",
              "          (0): Linear(in_features=1024, out_features=4096, bias=True)\n",
              "          (1): GeLU()\n",
              "          (2): Linear(in_features=4096, out_features=1024, bias=True)\n",
              "        )\n",
              "      )\n",
              "      (dropout): Dropout(p=0.0, inplace=False)\n",
              "    )\n",
              "    (3): TransformerBlock(\n",
              "      (mha): MultiHeadAttention(\n",
              "        (w_query): Linear(in_features=1024, out_features=1024, bias=True)\n",
              "        (w_key): Linear(in_features=1024, out_features=1024, bias=True)\n",
              "        (w_value): Linear(in_features=1024, out_features=1024, bias=True)\n",
              "        (out_proj): Linear(in_features=1024, out_features=1024, bias=True)\n",
              "        (dropout): Dropout(p=0.0, inplace=False)\n",
              "      )\n",
              "      (layer_norm1): LayerNorm()\n",
              "      (layer_norm2): LayerNorm()\n",
              "      (ffn): FeedForward(\n",
              "        (layers): Sequential(\n",
              "          (0): Linear(in_features=1024, out_features=4096, bias=True)\n",
              "          (1): GeLU()\n",
              "          (2): Linear(in_features=4096, out_features=1024, bias=True)\n",
              "        )\n",
              "      )\n",
              "      (dropout): Dropout(p=0.0, inplace=False)\n",
              "    )\n",
              "    (4): TransformerBlock(\n",
              "      (mha): MultiHeadAttention(\n",
              "        (w_query): Linear(in_features=1024, out_features=1024, bias=True)\n",
              "        (w_key): Linear(in_features=1024, out_features=1024, bias=True)\n",
              "        (w_value): Linear(in_features=1024, out_features=1024, bias=True)\n",
              "        (out_proj): Linear(in_features=1024, out_features=1024, bias=True)\n",
              "        (dropout): Dropout(p=0.0, inplace=False)\n",
              "      )\n",
              "      (layer_norm1): LayerNorm()\n",
              "      (layer_norm2): LayerNorm()\n",
              "      (ffn): FeedForward(\n",
              "        (layers): Sequential(\n",
              "          (0): Linear(in_features=1024, out_features=4096, bias=True)\n",
              "          (1): GeLU()\n",
              "          (2): Linear(in_features=4096, out_features=1024, bias=True)\n",
              "        )\n",
              "      )\n",
              "      (dropout): Dropout(p=0.0, inplace=False)\n",
              "    )\n",
              "    (5): TransformerBlock(\n",
              "      (mha): MultiHeadAttention(\n",
              "        (w_query): Linear(in_features=1024, out_features=1024, bias=True)\n",
              "        (w_key): Linear(in_features=1024, out_features=1024, bias=True)\n",
              "        (w_value): Linear(in_features=1024, out_features=1024, bias=True)\n",
              "        (out_proj): Linear(in_features=1024, out_features=1024, bias=True)\n",
              "        (dropout): Dropout(p=0.0, inplace=False)\n",
              "      )\n",
              "      (layer_norm1): LayerNorm()\n",
              "      (layer_norm2): LayerNorm()\n",
              "      (ffn): FeedForward(\n",
              "        (layers): Sequential(\n",
              "          (0): Linear(in_features=1024, out_features=4096, bias=True)\n",
              "          (1): GeLU()\n",
              "          (2): Linear(in_features=4096, out_features=1024, bias=True)\n",
              "        )\n",
              "      )\n",
              "      (dropout): Dropout(p=0.0, inplace=False)\n",
              "    )\n",
              "    (6): TransformerBlock(\n",
              "      (mha): MultiHeadAttention(\n",
              "        (w_query): Linear(in_features=1024, out_features=1024, bias=True)\n",
              "        (w_key): Linear(in_features=1024, out_features=1024, bias=True)\n",
              "        (w_value): Linear(in_features=1024, out_features=1024, bias=True)\n",
              "        (out_proj): Linear(in_features=1024, out_features=1024, bias=True)\n",
              "        (dropout): Dropout(p=0.0, inplace=False)\n",
              "      )\n",
              "      (layer_norm1): LayerNorm()\n",
              "      (layer_norm2): LayerNorm()\n",
              "      (ffn): FeedForward(\n",
              "        (layers): Sequential(\n",
              "          (0): Linear(in_features=1024, out_features=4096, bias=True)\n",
              "          (1): GeLU()\n",
              "          (2): Linear(in_features=4096, out_features=1024, bias=True)\n",
              "        )\n",
              "      )\n",
              "      (dropout): Dropout(p=0.0, inplace=False)\n",
              "    )\n",
              "    (7): TransformerBlock(\n",
              "      (mha): MultiHeadAttention(\n",
              "        (w_query): Linear(in_features=1024, out_features=1024, bias=True)\n",
              "        (w_key): Linear(in_features=1024, out_features=1024, bias=True)\n",
              "        (w_value): Linear(in_features=1024, out_features=1024, bias=True)\n",
              "        (out_proj): Linear(in_features=1024, out_features=1024, bias=True)\n",
              "        (dropout): Dropout(p=0.0, inplace=False)\n",
              "      )\n",
              "      (layer_norm1): LayerNorm()\n",
              "      (layer_norm2): LayerNorm()\n",
              "      (ffn): FeedForward(\n",
              "        (layers): Sequential(\n",
              "          (0): Linear(in_features=1024, out_features=4096, bias=True)\n",
              "          (1): GeLU()\n",
              "          (2): Linear(in_features=4096, out_features=1024, bias=True)\n",
              "        )\n",
              "      )\n",
              "      (dropout): Dropout(p=0.0, inplace=False)\n",
              "    )\n",
              "    (8): TransformerBlock(\n",
              "      (mha): MultiHeadAttention(\n",
              "        (w_query): Linear(in_features=1024, out_features=1024, bias=True)\n",
              "        (w_key): Linear(in_features=1024, out_features=1024, bias=True)\n",
              "        (w_value): Linear(in_features=1024, out_features=1024, bias=True)\n",
              "        (out_proj): Linear(in_features=1024, out_features=1024, bias=True)\n",
              "        (dropout): Dropout(p=0.0, inplace=False)\n",
              "      )\n",
              "      (layer_norm1): LayerNorm()\n",
              "      (layer_norm2): LayerNorm()\n",
              "      (ffn): FeedForward(\n",
              "        (layers): Sequential(\n",
              "          (0): Linear(in_features=1024, out_features=4096, bias=True)\n",
              "          (1): GeLU()\n",
              "          (2): Linear(in_features=4096, out_features=1024, bias=True)\n",
              "        )\n",
              "      )\n",
              "      (dropout): Dropout(p=0.0, inplace=False)\n",
              "    )\n",
              "    (9): TransformerBlock(\n",
              "      (mha): MultiHeadAttention(\n",
              "        (w_query): Linear(in_features=1024, out_features=1024, bias=True)\n",
              "        (w_key): Linear(in_features=1024, out_features=1024, bias=True)\n",
              "        (w_value): Linear(in_features=1024, out_features=1024, bias=True)\n",
              "        (out_proj): Linear(in_features=1024, out_features=1024, bias=True)\n",
              "        (dropout): Dropout(p=0.0, inplace=False)\n",
              "      )\n",
              "      (layer_norm1): LayerNorm()\n",
              "      (layer_norm2): LayerNorm()\n",
              "      (ffn): FeedForward(\n",
              "        (layers): Sequential(\n",
              "          (0): Linear(in_features=1024, out_features=4096, bias=True)\n",
              "          (1): GeLU()\n",
              "          (2): Linear(in_features=4096, out_features=1024, bias=True)\n",
              "        )\n",
              "      )\n",
              "      (dropout): Dropout(p=0.0, inplace=False)\n",
              "    )\n",
              "    (10): TransformerBlock(\n",
              "      (mha): MultiHeadAttention(\n",
              "        (w_query): Linear(in_features=1024, out_features=1024, bias=True)\n",
              "        (w_key): Linear(in_features=1024, out_features=1024, bias=True)\n",
              "        (w_value): Linear(in_features=1024, out_features=1024, bias=True)\n",
              "        (out_proj): Linear(in_features=1024, out_features=1024, bias=True)\n",
              "        (dropout): Dropout(p=0.0, inplace=False)\n",
              "      )\n",
              "      (layer_norm1): LayerNorm()\n",
              "      (layer_norm2): LayerNorm()\n",
              "      (ffn): FeedForward(\n",
              "        (layers): Sequential(\n",
              "          (0): Linear(in_features=1024, out_features=4096, bias=True)\n",
              "          (1): GeLU()\n",
              "          (2): Linear(in_features=4096, out_features=1024, bias=True)\n",
              "        )\n",
              "      )\n",
              "      (dropout): Dropout(p=0.0, inplace=False)\n",
              "    )\n",
              "    (11): TransformerBlock(\n",
              "      (mha): MultiHeadAttention(\n",
              "        (w_query): Linear(in_features=1024, out_features=1024, bias=True)\n",
              "        (w_key): Linear(in_features=1024, out_features=1024, bias=True)\n",
              "        (w_value): Linear(in_features=1024, out_features=1024, bias=True)\n",
              "        (out_proj): Linear(in_features=1024, out_features=1024, bias=True)\n",
              "        (dropout): Dropout(p=0.0, inplace=False)\n",
              "      )\n",
              "      (layer_norm1): LayerNorm()\n",
              "      (layer_norm2): LayerNorm()\n",
              "      (ffn): FeedForward(\n",
              "        (layers): Sequential(\n",
              "          (0): Linear(in_features=1024, out_features=4096, bias=True)\n",
              "          (1): GeLU()\n",
              "          (2): Linear(in_features=4096, out_features=1024, bias=True)\n",
              "        )\n",
              "      )\n",
              "      (dropout): Dropout(p=0.0, inplace=False)\n",
              "    )\n",
              "    (12): TransformerBlock(\n",
              "      (mha): MultiHeadAttention(\n",
              "        (w_query): Linear(in_features=1024, out_features=1024, bias=True)\n",
              "        (w_key): Linear(in_features=1024, out_features=1024, bias=True)\n",
              "        (w_value): Linear(in_features=1024, out_features=1024, bias=True)\n",
              "        (out_proj): Linear(in_features=1024, out_features=1024, bias=True)\n",
              "        (dropout): Dropout(p=0.0, inplace=False)\n",
              "      )\n",
              "      (layer_norm1): LayerNorm()\n",
              "      (layer_norm2): LayerNorm()\n",
              "      (ffn): FeedForward(\n",
              "        (layers): Sequential(\n",
              "          (0): Linear(in_features=1024, out_features=4096, bias=True)\n",
              "          (1): GeLU()\n",
              "          (2): Linear(in_features=4096, out_features=1024, bias=True)\n",
              "        )\n",
              "      )\n",
              "      (dropout): Dropout(p=0.0, inplace=False)\n",
              "    )\n",
              "    (13): TransformerBlock(\n",
              "      (mha): MultiHeadAttention(\n",
              "        (w_query): Linear(in_features=1024, out_features=1024, bias=True)\n",
              "        (w_key): Linear(in_features=1024, out_features=1024, bias=True)\n",
              "        (w_value): Linear(in_features=1024, out_features=1024, bias=True)\n",
              "        (out_proj): Linear(in_features=1024, out_features=1024, bias=True)\n",
              "        (dropout): Dropout(p=0.0, inplace=False)\n",
              "      )\n",
              "      (layer_norm1): LayerNorm()\n",
              "      (layer_norm2): LayerNorm()\n",
              "      (ffn): FeedForward(\n",
              "        (layers): Sequential(\n",
              "          (0): Linear(in_features=1024, out_features=4096, bias=True)\n",
              "          (1): GeLU()\n",
              "          (2): Linear(in_features=4096, out_features=1024, bias=True)\n",
              "        )\n",
              "      )\n",
              "      (dropout): Dropout(p=0.0, inplace=False)\n",
              "    )\n",
              "    (14): TransformerBlock(\n",
              "      (mha): MultiHeadAttention(\n",
              "        (w_query): Linear(in_features=1024, out_features=1024, bias=True)\n",
              "        (w_key): Linear(in_features=1024, out_features=1024, bias=True)\n",
              "        (w_value): Linear(in_features=1024, out_features=1024, bias=True)\n",
              "        (out_proj): Linear(in_features=1024, out_features=1024, bias=True)\n",
              "        (dropout): Dropout(p=0.0, inplace=False)\n",
              "      )\n",
              "      (layer_norm1): LayerNorm()\n",
              "      (layer_norm2): LayerNorm()\n",
              "      (ffn): FeedForward(\n",
              "        (layers): Sequential(\n",
              "          (0): Linear(in_features=1024, out_features=4096, bias=True)\n",
              "          (1): GeLU()\n",
              "          (2): Linear(in_features=4096, out_features=1024, bias=True)\n",
              "        )\n",
              "      )\n",
              "      (dropout): Dropout(p=0.0, inplace=False)\n",
              "    )\n",
              "    (15): TransformerBlock(\n",
              "      (mha): MultiHeadAttention(\n",
              "        (w_query): Linear(in_features=1024, out_features=1024, bias=True)\n",
              "        (w_key): Linear(in_features=1024, out_features=1024, bias=True)\n",
              "        (w_value): Linear(in_features=1024, out_features=1024, bias=True)\n",
              "        (out_proj): Linear(in_features=1024, out_features=1024, bias=True)\n",
              "        (dropout): Dropout(p=0.0, inplace=False)\n",
              "      )\n",
              "      (layer_norm1): LayerNorm()\n",
              "      (layer_norm2): LayerNorm()\n",
              "      (ffn): FeedForward(\n",
              "        (layers): Sequential(\n",
              "          (0): Linear(in_features=1024, out_features=4096, bias=True)\n",
              "          (1): GeLU()\n",
              "          (2): Linear(in_features=4096, out_features=1024, bias=True)\n",
              "        )\n",
              "      )\n",
              "      (dropout): Dropout(p=0.0, inplace=False)\n",
              "    )\n",
              "    (16): TransformerBlock(\n",
              "      (mha): MultiHeadAttention(\n",
              "        (w_query): Linear(in_features=1024, out_features=1024, bias=True)\n",
              "        (w_key): Linear(in_features=1024, out_features=1024, bias=True)\n",
              "        (w_value): Linear(in_features=1024, out_features=1024, bias=True)\n",
              "        (out_proj): Linear(in_features=1024, out_features=1024, bias=True)\n",
              "        (dropout): Dropout(p=0.0, inplace=False)\n",
              "      )\n",
              "      (layer_norm1): LayerNorm()\n",
              "      (layer_norm2): LayerNorm()\n",
              "      (ffn): FeedForward(\n",
              "        (layers): Sequential(\n",
              "          (0): Linear(in_features=1024, out_features=4096, bias=True)\n",
              "          (1): GeLU()\n",
              "          (2): Linear(in_features=4096, out_features=1024, bias=True)\n",
              "        )\n",
              "      )\n",
              "      (dropout): Dropout(p=0.0, inplace=False)\n",
              "    )\n",
              "    (17): TransformerBlock(\n",
              "      (mha): MultiHeadAttention(\n",
              "        (w_query): Linear(in_features=1024, out_features=1024, bias=True)\n",
              "        (w_key): Linear(in_features=1024, out_features=1024, bias=True)\n",
              "        (w_value): Linear(in_features=1024, out_features=1024, bias=True)\n",
              "        (out_proj): Linear(in_features=1024, out_features=1024, bias=True)\n",
              "        (dropout): Dropout(p=0.0, inplace=False)\n",
              "      )\n",
              "      (layer_norm1): LayerNorm()\n",
              "      (layer_norm2): LayerNorm()\n",
              "      (ffn): FeedForward(\n",
              "        (layers): Sequential(\n",
              "          (0): Linear(in_features=1024, out_features=4096, bias=True)\n",
              "          (1): GeLU()\n",
              "          (2): Linear(in_features=4096, out_features=1024, bias=True)\n",
              "        )\n",
              "      )\n",
              "      (dropout): Dropout(p=0.0, inplace=False)\n",
              "    )\n",
              "    (18): TransformerBlock(\n",
              "      (mha): MultiHeadAttention(\n",
              "        (w_query): Linear(in_features=1024, out_features=1024, bias=True)\n",
              "        (w_key): Linear(in_features=1024, out_features=1024, bias=True)\n",
              "        (w_value): Linear(in_features=1024, out_features=1024, bias=True)\n",
              "        (out_proj): Linear(in_features=1024, out_features=1024, bias=True)\n",
              "        (dropout): Dropout(p=0.0, inplace=False)\n",
              "      )\n",
              "      (layer_norm1): LayerNorm()\n",
              "      (layer_norm2): LayerNorm()\n",
              "      (ffn): FeedForward(\n",
              "        (layers): Sequential(\n",
              "          (0): Linear(in_features=1024, out_features=4096, bias=True)\n",
              "          (1): GeLU()\n",
              "          (2): Linear(in_features=4096, out_features=1024, bias=True)\n",
              "        )\n",
              "      )\n",
              "      (dropout): Dropout(p=0.0, inplace=False)\n",
              "    )\n",
              "    (19): TransformerBlock(\n",
              "      (mha): MultiHeadAttention(\n",
              "        (w_query): Linear(in_features=1024, out_features=1024, bias=True)\n",
              "        (w_key): Linear(in_features=1024, out_features=1024, bias=True)\n",
              "        (w_value): Linear(in_features=1024, out_features=1024, bias=True)\n",
              "        (out_proj): Linear(in_features=1024, out_features=1024, bias=True)\n",
              "        (dropout): Dropout(p=0.0, inplace=False)\n",
              "      )\n",
              "      (layer_norm1): LayerNorm()\n",
              "      (layer_norm2): LayerNorm()\n",
              "      (ffn): FeedForward(\n",
              "        (layers): Sequential(\n",
              "          (0): Linear(in_features=1024, out_features=4096, bias=True)\n",
              "          (1): GeLU()\n",
              "          (2): Linear(in_features=4096, out_features=1024, bias=True)\n",
              "        )\n",
              "      )\n",
              "      (dropout): Dropout(p=0.0, inplace=False)\n",
              "    )\n",
              "    (20): TransformerBlock(\n",
              "      (mha): MultiHeadAttention(\n",
              "        (w_query): Linear(in_features=1024, out_features=1024, bias=True)\n",
              "        (w_key): Linear(in_features=1024, out_features=1024, bias=True)\n",
              "        (w_value): Linear(in_features=1024, out_features=1024, bias=True)\n",
              "        (out_proj): Linear(in_features=1024, out_features=1024, bias=True)\n",
              "        (dropout): Dropout(p=0.0, inplace=False)\n",
              "      )\n",
              "      (layer_norm1): LayerNorm()\n",
              "      (layer_norm2): LayerNorm()\n",
              "      (ffn): FeedForward(\n",
              "        (layers): Sequential(\n",
              "          (0): Linear(in_features=1024, out_features=4096, bias=True)\n",
              "          (1): GeLU()\n",
              "          (2): Linear(in_features=4096, out_features=1024, bias=True)\n",
              "        )\n",
              "      )\n",
              "      (dropout): Dropout(p=0.0, inplace=False)\n",
              "    )\n",
              "    (21): TransformerBlock(\n",
              "      (mha): MultiHeadAttention(\n",
              "        (w_query): Linear(in_features=1024, out_features=1024, bias=True)\n",
              "        (w_key): Linear(in_features=1024, out_features=1024, bias=True)\n",
              "        (w_value): Linear(in_features=1024, out_features=1024, bias=True)\n",
              "        (out_proj): Linear(in_features=1024, out_features=1024, bias=True)\n",
              "        (dropout): Dropout(p=0.0, inplace=False)\n",
              "      )\n",
              "      (layer_norm1): LayerNorm()\n",
              "      (layer_norm2): LayerNorm()\n",
              "      (ffn): FeedForward(\n",
              "        (layers): Sequential(\n",
              "          (0): Linear(in_features=1024, out_features=4096, bias=True)\n",
              "          (1): GeLU()\n",
              "          (2): Linear(in_features=4096, out_features=1024, bias=True)\n",
              "        )\n",
              "      )\n",
              "      (dropout): Dropout(p=0.0, inplace=False)\n",
              "    )\n",
              "    (22): TransformerBlock(\n",
              "      (mha): MultiHeadAttention(\n",
              "        (w_query): Linear(in_features=1024, out_features=1024, bias=True)\n",
              "        (w_key): Linear(in_features=1024, out_features=1024, bias=True)\n",
              "        (w_value): Linear(in_features=1024, out_features=1024, bias=True)\n",
              "        (out_proj): Linear(in_features=1024, out_features=1024, bias=True)\n",
              "        (dropout): Dropout(p=0.0, inplace=False)\n",
              "      )\n",
              "      (layer_norm1): LayerNorm()\n",
              "      (layer_norm2): LayerNorm()\n",
              "      (ffn): FeedForward(\n",
              "        (layers): Sequential(\n",
              "          (0): Linear(in_features=1024, out_features=4096, bias=True)\n",
              "          (1): GeLU()\n",
              "          (2): Linear(in_features=4096, out_features=1024, bias=True)\n",
              "        )\n",
              "      )\n",
              "      (dropout): Dropout(p=0.0, inplace=False)\n",
              "    )\n",
              "    (23): TransformerBlock(\n",
              "      (mha): MultiHeadAttention(\n",
              "        (w_query): Linear(in_features=1024, out_features=1024, bias=True)\n",
              "        (w_key): Linear(in_features=1024, out_features=1024, bias=True)\n",
              "        (w_value): Linear(in_features=1024, out_features=1024, bias=True)\n",
              "        (out_proj): Linear(in_features=1024, out_features=1024, bias=True)\n",
              "        (dropout): Dropout(p=0.0, inplace=False)\n",
              "      )\n",
              "      (layer_norm1): LayerNorm()\n",
              "      (layer_norm2): LayerNorm()\n",
              "      (ffn): FeedForward(\n",
              "        (layers): Sequential(\n",
              "          (0): Linear(in_features=1024, out_features=4096, bias=True)\n",
              "          (1): GeLU()\n",
              "          (2): Linear(in_features=4096, out_features=1024, bias=True)\n",
              "        )\n",
              "      )\n",
              "      (dropout): Dropout(p=0.0, inplace=False)\n",
              "    )\n",
              "  )\n",
              "  (final_norm): LayerNorm()\n",
              "  (output_layer): Linear(in_features=1024, out_features=50257, bias=False)\n",
              ")"
            ]
          },
          "metadata": {},
          "execution_count": 38
        }
      ]
    },
    {
      "cell_type": "code",
      "source": [
        "#lets calculate loss before adding lora weights\n",
        "torch.manual_seed(123)\n",
        "model.to(device)\n",
        "\n",
        "with torch.no_grad():\n",
        "  train_loss = calc_loss_dataloader(train_loader, model, device, 5)\n",
        "  val_loss = calc_loss_dataloader(val_loader, model, device, 5)\n",
        "\n",
        "print(f\"Training loss: {train_loss}\")\n",
        "print(f\"Validation loss : {val_loss}\")"
      ],
      "metadata": {
        "colab": {
          "base_uri": "https://localhost:8080/"
        },
        "id": "ZGJS2xDuQ6qL",
        "outputId": "ab656847-9acf-4dad-a53f-14555dc2b7f5"
      },
      "execution_count": 39,
      "outputs": [
        {
          "output_type": "stream",
          "name": "stdout",
          "text": [
            "Training loss: 3.8755919456481935\n",
            "Validation loss : 3.8087229251861574\n"
          ]
        }
      ]
    },
    {
      "cell_type": "markdown",
      "source": [
        "# **Add LoRA weights to Linear layers**"
      ],
      "metadata": {
        "id": "1oGQH0Jy7bX2"
      }
    },
    {
      "cell_type": "code",
      "source": [
        "class LoRA(nn.Module):\n",
        "  def __init__(self, in_size, out_size, rank, alpha):\n",
        "    super().__init__()\n",
        "    self.alpha = alpha\n",
        "    self.A = nn.Parameter(torch.empty(in_size, rank))\n",
        "    nn.init.kaiming_uniform_(self.A, a=math.sqrt(5)) #weight initialization, this fn is called inside Linear module for weight initialization\n",
        "    self.B = nn.Parameter(torch.zeros(rank, out_size))\n",
        "\n",
        "  def forward(self, x):\n",
        "    return self.alpha * (x @ self.A @ self.B)"
      ],
      "metadata": {
        "id": "pQ0Y0LdG7jQX"
      },
      "execution_count": 40,
      "outputs": []
    },
    {
      "cell_type": "code",
      "source": [
        "#module to replace the linear layer\n",
        "class LinearWithLoRA(nn.Module):\n",
        "  def __init__(self, linear, rank, alpha):\n",
        "    super().__init__()\n",
        "    self.linear = linear\n",
        "    self.lora = LoRA(linear.in_features, linear.out_features, rank, alpha)\n",
        "\n",
        "  def forward(self, x):\n",
        "    return self.linear(x) + self.lora(x)"
      ],
      "metadata": {
        "id": "5OQE7LfP9Yeu"
      },
      "execution_count": 41,
      "outputs": []
    },
    {
      "cell_type": "code",
      "source": [
        "def replace_linear_with_lora(model, alpha, rank):\n",
        "  for name, module in model.named_children():\n",
        "    if isinstance(module, nn.Linear):\n",
        "      setattr(model, name, LinearWithLoRA(module, rank, alpha))\n",
        "    else:\n",
        "      replace_linear_with_lora(module, rank, alpha)"
      ],
      "metadata": {
        "id": "GDgquuEN-a93"
      },
      "execution_count": 42,
      "outputs": []
    },
    {
      "cell_type": "code",
      "source": [
        "rank=16\n",
        "alpha=16\n",
        "trainable_params_before = sum(param.numel() for param in model.parameters() if param.requires_grad)\n",
        "#lets freeze the weights\n",
        "for param in model.parameters():\n",
        "  param.requires_grad = False\n",
        "replace_linear_with_lora(model, rank=rank, alpha=alpha)\n",
        "trainable_params_after = sum(param.numel() for param in model.parameters() if param.requires_grad)\n",
        "\n",
        "print(f\"Trainable parameters before freezing pretrained weights: {trainable_params_before}\")\n",
        "print(f\"Trainable parameters after freezing the pretrained weights and adding LoRA weights: {trainable_params_after}\")"
      ],
      "metadata": {
        "colab": {
          "base_uri": "https://localhost:8080/"
        },
        "id": "hCTuj9qHHdOU",
        "outputId": "c5bc7182-2d94-4525-8391-76ed46dc2ee9"
      },
      "execution_count": 43,
      "outputs": [
        {
          "output_type": "stream",
          "name": "stdout",
          "text": [
            "Trainable parameters before freezing pretrained weights: 406286336\n",
            "Trainable parameters after freezing the pretrained weights and adding LoRA weights: 7898384\n"
          ]
        }
      ]
    },
    {
      "cell_type": "markdown",
      "source": [
        "# **Fine-Tuning**"
      ],
      "metadata": {
        "id": "P0P6vySM7WU1"
      }
    },
    {
      "cell_type": "code",
      "source": [
        "#lets calculate loss before fine-tuning the model\n",
        "torch.manual_seed(123)\n",
        "model.to(device)\n",
        "\n",
        "with torch.no_grad():\n",
        "  train_loss = calc_loss_dataloader(train_loader, model, device, 5)\n",
        "  val_loss = calc_loss_dataloader(val_loader, model, device, 5)\n",
        "\n",
        "print(f\"Training loss: {train_loss}\")\n",
        "print(f\"Validation loss : {val_loss}\")"
      ],
      "metadata": {
        "colab": {
          "base_uri": "https://localhost:8080/"
        },
        "id": "iOxod07-7Vzw",
        "outputId": "fefd3f03-5bac-43ad-f54a-73d9d93d782a"
      },
      "execution_count": 45,
      "outputs": [
        {
          "output_type": "stream",
          "name": "stdout",
          "text": [
            "Training loss: 3.8755919456481935\n",
            "Validation loss : 3.8087229251861574\n"
          ]
        }
      ]
    },
    {
      "cell_type": "code",
      "source": [
        "#fine-tune\n",
        "torch.manual_seed(123)\n",
        "\n",
        "t0 = time.time()\n",
        "\n",
        "epochs = 2\n",
        "optimizer = torch.optim.AdamW(model.parameters(), lr=0.00005, weight_decay=0.1)\n",
        "\n",
        "train_losses, val_losses, track_tokens_seen = train_model_simple(model, train_loader, val_loader, device, optimizer, epochs, eval_freq=5, eval_iter=5, start_context=format_entry(val_data[0]), tokenizer=tokenizer)\n",
        "\n",
        "t1 = time.time()\n",
        "\n",
        "exec_time = (t1 - t0)/60 # in minutes\n",
        "\n",
        "print(f\"Training completed in {exec_time} mins\")"
      ],
      "metadata": {
        "colab": {
          "base_uri": "https://localhost:8080/"
        },
        "id": "yLYf56R07T5s",
        "outputId": "269b3d2f-0108-46c4-c6ce-34ff301c79b3"
      },
      "execution_count": 46,
      "outputs": [
        {
          "output_type": "stream",
          "name": "stdout",
          "text": [
            "Train loss after epoch 0 (Step: 0): 2.658\n",
            "Val loss after epoch 0 (Step: 0): 2.668\n",
            "Number of tokens seen after epoch 0 (Step: 0)\n",
            "Train loss after epoch 0 (Step: 5): 1.192\n",
            "Val loss after epoch 0 (Step: 5): 1.105\n",
            "Number of tokens seen after epoch 0 (Step: 5)\n",
            "Train loss after epoch 0 (Step: 10): 0.902\n",
            "Val loss after epoch 0 (Step: 10): 0.991\n",
            "Number of tokens seen after epoch 0 (Step: 10)\n",
            "Train loss after epoch 0 (Step: 15): 0.866\n",
            "Val loss after epoch 0 (Step: 15): 0.949\n",
            "Number of tokens seen after epoch 0 (Step: 15)\n",
            "Train loss after epoch 0 (Step: 20): 0.799\n",
            "Val loss after epoch 0 (Step: 20): 0.921\n",
            "Number of tokens seen after epoch 0 (Step: 20)\n",
            "Train loss after epoch 0 (Step: 25): 0.772\n",
            "Val loss after epoch 0 (Step: 25): 0.884\n",
            "Number of tokens seen after epoch 0 (Step: 25)\n",
            "Train loss after epoch 0 (Step: 30): 0.803\n",
            "Val loss after epoch 0 (Step: 30): 0.854\n",
            "Number of tokens seen after epoch 0 (Step: 30)\n",
            "Train loss after epoch 0 (Step: 35): 0.727\n",
            "Val loss after epoch 0 (Step: 35): 0.821\n",
            "Number of tokens seen after epoch 0 (Step: 35)\n",
            "Train loss after epoch 0 (Step: 40): 0.691\n",
            "Val loss after epoch 0 (Step: 40): 0.813\n",
            "Number of tokens seen after epoch 0 (Step: 40)\n",
            "Train loss after epoch 0 (Step: 45): 0.643\n",
            "Val loss after epoch 0 (Step: 45): 0.796\n",
            "Number of tokens seen after epoch 0 (Step: 45)\n",
            "Train loss after epoch 0 (Step: 50): 0.695\n",
            "Val loss after epoch 0 (Step: 50): 0.786\n",
            "Number of tokens seen after epoch 0 (Step: 50)\n",
            "Train loss after epoch 0 (Step: 55): 0.769\n",
            "Val loss after epoch 0 (Step: 55): 0.771\n",
            "Number of tokens seen after epoch 0 (Step: 55)\n",
            "Train loss after epoch 0 (Step: 60): 0.741\n",
            "Val loss after epoch 0 (Step: 60): 0.753\n",
            "Number of tokens seen after epoch 0 (Step: 60)\n",
            "Train loss after epoch 0 (Step: 65): 0.656\n",
            "Val loss after epoch 0 (Step: 65): 0.740\n",
            "Number of tokens seen after epoch 0 (Step: 65)\n",
            "Train loss after epoch 0 (Step: 70): 0.555\n",
            "Val loss after epoch 0 (Step: 70): 0.735\n",
            "Number of tokens seen after epoch 0 (Step: 70)\n",
            "Train loss after epoch 0 (Step: 75): 0.576\n",
            "Val loss after epoch 0 (Step: 75): 0.742\n",
            "Number of tokens seen after epoch 0 (Step: 75)\n",
            "Train loss after epoch 0 (Step: 80): 0.616\n",
            "Val loss after epoch 0 (Step: 80): 0.736\n",
            "Number of tokens seen after epoch 0 (Step: 80)\n",
            "Train loss after epoch 0 (Step: 85): 0.518\n",
            "Val loss after epoch 0 (Step: 85): 0.714\n",
            "Number of tokens seen after epoch 0 (Step: 85)\n",
            "Train loss after epoch 0 (Step: 90): 0.574\n",
            "Val loss after epoch 0 (Step: 90): 0.698\n",
            "Number of tokens seen after epoch 0 (Step: 90)\n",
            "Train loss after epoch 0 (Step: 95): 0.511\n",
            "Val loss after epoch 0 (Step: 95): 0.691\n",
            "Number of tokens seen after epoch 0 (Step: 95)\n",
            "Train loss after epoch 0 (Step: 100): 0.521\n",
            "Val loss after epoch 0 (Step: 100): 0.683\n",
            "Number of tokens seen after epoch 0 (Step: 100)\n",
            "Train loss after epoch 0 (Step: 105): 0.581\n",
            "Val loss after epoch 0 (Step: 105): 0.678\n",
            "Number of tokens seen after epoch 0 (Step: 105)\n",
            "Train loss after epoch 0 (Step: 110): 0.577\n",
            "Val loss after epoch 0 (Step: 110): 0.673\n",
            "Number of tokens seen after epoch 0 (Step: 110)\n",
            "Train loss after epoch 0 (Step: 115): 0.511\n",
            "Val loss after epoch 0 (Step: 115): 0.668\n",
            "Number of tokens seen after epoch 0 (Step: 115)\n",
            "Below is the instruction that describes a task. Write an appropriate response to address the instruction.   ### Instruction: Convert the active sentence to passive: 'The chef cooks the meal every day.'  ### Response: The meal is prepared every day by the chef.<|endoftext|>The following is a list of movies that have been released in the United States.  ### Title: The Great Gatsby  ### Genre:\n",
            "Train loss after epoch 1 (Step: 120): 0.450\n",
            "Val loss after epoch 1 (Step: 120): 0.682\n",
            "Number of tokens seen after epoch 1 (Step: 120)\n",
            "Train loss after epoch 1 (Step: 125): 0.445\n",
            "Val loss after epoch 1 (Step: 125): 0.702\n",
            "Number of tokens seen after epoch 1 (Step: 125)\n",
            "Train loss after epoch 1 (Step: 130): 0.450\n",
            "Val loss after epoch 1 (Step: 130): 0.703\n",
            "Number of tokens seen after epoch 1 (Step: 130)\n",
            "Train loss after epoch 1 (Step: 135): 0.413\n",
            "Val loss after epoch 1 (Step: 135): 0.691\n",
            "Number of tokens seen after epoch 1 (Step: 135)\n",
            "Train loss after epoch 1 (Step: 140): 0.418\n",
            "Val loss after epoch 1 (Step: 140): 0.687\n",
            "Number of tokens seen after epoch 1 (Step: 140)\n",
            "Train loss after epoch 1 (Step: 145): 0.382\n",
            "Val loss after epoch 1 (Step: 145): 0.689\n",
            "Number of tokens seen after epoch 1 (Step: 145)\n",
            "Train loss after epoch 1 (Step: 150): 0.398\n",
            "Val loss after epoch 1 (Step: 150): 0.682\n",
            "Number of tokens seen after epoch 1 (Step: 150)\n",
            "Train loss after epoch 1 (Step: 155): 0.428\n",
            "Val loss after epoch 1 (Step: 155): 0.682\n",
            "Number of tokens seen after epoch 1 (Step: 155)\n",
            "Train loss after epoch 1 (Step: 160): 0.420\n",
            "Val loss after epoch 1 (Step: 160): 0.692\n",
            "Number of tokens seen after epoch 1 (Step: 160)\n",
            "Train loss after epoch 1 (Step: 165): 0.400\n",
            "Val loss after epoch 1 (Step: 165): 0.687\n",
            "Number of tokens seen after epoch 1 (Step: 165)\n",
            "Train loss after epoch 1 (Step: 170): 0.340\n",
            "Val loss after epoch 1 (Step: 170): 0.692\n",
            "Number of tokens seen after epoch 1 (Step: 170)\n",
            "Train loss after epoch 1 (Step: 175): 0.356\n",
            "Val loss after epoch 1 (Step: 175): 0.682\n",
            "Number of tokens seen after epoch 1 (Step: 175)\n",
            "Train loss after epoch 1 (Step: 180): 0.411\n",
            "Val loss after epoch 1 (Step: 180): 0.670\n",
            "Number of tokens seen after epoch 1 (Step: 180)\n",
            "Train loss after epoch 1 (Step: 185): 0.435\n",
            "Val loss after epoch 1 (Step: 185): 0.671\n",
            "Number of tokens seen after epoch 1 (Step: 185)\n",
            "Train loss after epoch 1 (Step: 190): 0.340\n",
            "Val loss after epoch 1 (Step: 190): 0.656\n",
            "Number of tokens seen after epoch 1 (Step: 190)\n",
            "Train loss after epoch 1 (Step: 195): 0.338\n",
            "Val loss after epoch 1 (Step: 195): 0.639\n",
            "Number of tokens seen after epoch 1 (Step: 195)\n",
            "Train loss after epoch 1 (Step: 200): 0.323\n",
            "Val loss after epoch 1 (Step: 200): 0.635\n",
            "Number of tokens seen after epoch 1 (Step: 200)\n",
            "Train loss after epoch 1 (Step: 205): 0.368\n",
            "Val loss after epoch 1 (Step: 205): 0.632\n",
            "Number of tokens seen after epoch 1 (Step: 205)\n",
            "Train loss after epoch 1 (Step: 210): 0.387\n",
            "Val loss after epoch 1 (Step: 210): 0.629\n",
            "Number of tokens seen after epoch 1 (Step: 210)\n",
            "Train loss after epoch 1 (Step: 215): 0.411\n",
            "Val loss after epoch 1 (Step: 215): 0.631\n",
            "Number of tokens seen after epoch 1 (Step: 215)\n",
            "Train loss after epoch 1 (Step: 220): 0.311\n",
            "Val loss after epoch 1 (Step: 220): 0.639\n",
            "Number of tokens seen after epoch 1 (Step: 220)\n",
            "Train loss after epoch 1 (Step: 225): 0.357\n",
            "Val loss after epoch 1 (Step: 225): 0.644\n",
            "Number of tokens seen after epoch 1 (Step: 225)\n",
            "Train loss after epoch 1 (Step: 230): 0.314\n",
            "Val loss after epoch 1 (Step: 230): 0.645\n",
            "Number of tokens seen after epoch 1 (Step: 230)\n",
            "Below is the instruction that describes a task. Write an appropriate response to address the instruction.   ### Instruction: Convert the active sentence to passive: 'The chef cooks the meal every day.'  ### Response: The meal is cooked every day by the chef.<|endoftext|>The following is the instruction that describes a task. Write an appropriate response to address the instruction.   ### Response: Edit the sentence to remove any redundant\n",
            "Training completed in 2.7708035071690875 mins\n"
          ]
        }
      ]
    },
    {
      "cell_type": "code",
      "source": [
        "epochs_tensor = torch.linspace(0, epochs, len(train_losses))\n",
        "plot_losses(\n",
        "    epochs_tensor, track_tokens_seen,\n",
        "    train_losses,\n",
        "    val_losses\n",
        "    )"
      ],
      "metadata": {
        "colab": {
          "base_uri": "https://localhost:8080/",
          "height": 307
        },
        "id": "l5ooXx8h7T88",
        "outputId": "1e357db7-9d5c-43f2-f2e7-442863721b8a"
      },
      "execution_count": 47,
      "outputs": [
        {
          "output_type": "display_data",
          "data": {
            "text/plain": [
              "<Figure size 500x300 with 2 Axes>"
            ],
            "image/png": "[encoded data removed]"
          },
          "metadata": {}
        }
      ]
    },
    {
      "cell_type": "code",
      "source": [
        "#lets test the fine-tuned model on test data\n",
        "for entry in test_data[:3]:\n",
        "  formatted_entry = format_entry(entry)\n",
        "  output_tokens = generate(\n",
        "      model=model,\n",
        "      inp_tokens=text_to_token_ids(formatted_entry, tokenizer).to(device),\n",
        "      context_size=BASE_CONFIG['context_length'],\n",
        "      max_tokens=256,\n",
        "      eos_id=50256\n",
        "  )\n",
        "  output_text = token_ids_to_text(output_tokens, tokenizer)\n",
        "  response_text = output_text[len(formatted_entry):].replace(\"### Response:\",'').strip()\n",
        "  print(formatted_entry)\n",
        "  print(f\"Correct Response: {entry['output']}\")\n",
        "  print(f'Model Response: {response_text}\\n\\n\\n')\n"
      ],
      "metadata": {
        "colab": {
          "base_uri": "https://localhost:8080/"
        },
        "id": "GRq-6ZqoMYLe",
        "outputId": "25a91afb-0e6d-43f1-a672-dd03250dd729"
      },
      "execution_count": 48,
      "outputs": [
        {
          "output_type": "stream",
          "name": "stdout",
          "text": [
            "Below is the instruction that describes a task. Write an appropriate response to address the instruction. \n",
            "\n",
            "### Instruction:\n",
            "Rewrite the sentence using a simile.\n",
            "\n",
            "### Input:\n",
            "The car is very fast.\n",
            "Correct Response: The car is as fast as lightning.\n",
            "Model Response: The car is as fast as an elephant.\n",
            "\n",
            "\n",
            "\n",
            "Below is the instruction that describes a task. Write an appropriate response to address the instruction. \n",
            "\n",
            "### Instruction:\n",
            "What type of cloud is typically associated with thunderstorms?\n",
            "Correct Response: The type of cloud typically associated with thunderstorms is cumulonimbus.\n",
            "Model Response: The type of cloud typically associated with thunderstorms is a cumulus.\n",
            "\n",
            "\n",
            "\n",
            "Below is the instruction that describes a task. Write an appropriate response to address the instruction. \n",
            "\n",
            "### Instruction:\n",
            "Name the author of 'Pride and Prejudice'.\n",
            "Correct Response: Jane Austen.\n",
            "Model Response: The author of 'Pride and Prejudice' is Jane Austen.\n",
            "\n",
            "\n",
            "\n"
          ]
        }
      ]
    },
    {
      "cell_type": "code",
      "source": [
        "def extract_and_save_responses(data, model, device, tokenizer, destination_path):\n",
        "  for i, entry in tqdm(enumerate(data), total=len(data)):\n",
        "    formatted_entry = format_entry(entry)\n",
        "    output_tokens = generate(\n",
        "        model=model,\n",
        "        inp_tokens=text_to_token_ids(formatted_entry, tokenizer).to(device),\n",
        "        context_size=BASE_CONFIG['context_length'],\n",
        "        max_tokens=256,\n",
        "        eos_id=50256\n",
        "    )\n",
        "    output_text = token_ids_to_text(output_tokens, tokenizer)\n",
        "    response_text = output_text[len(formatted_entry):].replace(\"### Response:\",'').strip()\n",
        "\n",
        "    data[i]['model_response'] = response_text\n",
        "\n",
        "  with open(destination_path,'w') as file:\n",
        "    json.dump(data, file, indent=4)"
      ],
      "metadata": {
        "id": "RRTdoBr-MaG7"
      },
      "execution_count": 49,
      "outputs": []
    },
    {
      "cell_type": "code",
      "source": [
        "destination_path = f'/content/drive/My Drive/LLM/Data/instruction-data-with-response-lora-rank{rank}.json'\n",
        "extract_and_save_responses(test_data, model, device, tokenizer, destination_path)"
      ],
      "metadata": {
        "id": "9mJG95WIMim4",
        "colab": {
          "base_uri": "https://localhost:8080/"
        },
        "outputId": "786cdf27-cf0b-4050-de21-e55316dd5336"
      },
      "execution_count": 50,
      "outputs": [
        {
          "output_type": "stream",
          "name": "stderr",
          "text": [
            "100%|██████████| 110/110 [01:46<00:00,  1.04it/s]\n"
          ]
        }
      ]
    }
  ]
}